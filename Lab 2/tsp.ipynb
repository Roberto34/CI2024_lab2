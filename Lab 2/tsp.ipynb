{
 "cells": [
  {
   "cell_type": "markdown",
   "metadata": {
    "vscode": {
     "languageId": "plaintext"
    }
   },
   "source": [
    "Copyright **`(c)`** 2024 Giovanni Squillero `<giovanni.squillero@polito.it>`  \n",
    "[`https://github.com/squillero/computational-intelligence`](https://github.com/squillero/computational-intelligence)  \n",
    "Free under certain conditions — see the [`license`](https://github.com/squillero/computational-intelligence/blob/master/LICENSE.md) for details.  "
   ]
  },
  {
   "cell_type": "code",
   "metadata": {
    "ExecuteTime": {
     "end_time": "2024-10-28T19:40:03.870435Z",
     "start_time": "2024-10-28T19:40:03.866476Z"
    }
   },
   "source": [
    "import logging\n",
    "from cgitb import reset\n",
    "from typing import Callable\n",
    "\n",
    "import geopy.distance\n",
    "import pandas as pd\n",
    "import numpy as np\n",
    "import numpy.typing as npt\n",
    "import networkx as nx\n",
    "\n",
    "from itertools import combinations, cycle\n",
    "\n",
    "from PIL.features import modules\n",
    "from matplotlib import pyplot as plt\n",
    "from icecream import ic\n",
    "from tqdm import tqdm\n",
    "\n",
    "logging.basicConfig(level=logging.DEBUG)"
   ],
   "outputs": [],
   "execution_count": 1714
  },
  {
   "cell_type": "markdown",
   "metadata": {},
   "source": [
    "## Lab2 - TSP\n",
    "\n",
    "https://www.wolframcloud.com/obj/giovanni.squillero/Published/Lab2-tsp.nb"
   ]
  },
  {
   "metadata": {
    "ExecuteTime": {
     "end_time": "2024-10-28T19:40:04.028996Z",
     "start_time": "2024-10-28T19:40:03.899109Z"
    }
   },
   "cell_type": "code",
   "source": [
    "def load_cities(file_name: str) -> (pd.DataFrame, npt.NDArray, nx.Graph):\n",
    "    cities = pd.read_csv(file_name, header=None, names=['name', 'lat', 'lon'])\n",
    "    \n",
    "    dist_matrix = np.zeros((len(cities), len(cities)))\n",
    "    graph = nx.Graph()\n",
    "    \n",
    "    for c1, c2 in combinations(cities.itertuples(), 2):\n",
    "        distance = geopy.distance.geodesic(\n",
    "            (c1.lat, c1.lon), (c2.lat, c2.lon)\n",
    "        ).km\n",
    "    \n",
    "        dist_matrix[c1.Index, c2.Index] = dist_matrix[c2.Index, c1.Index] = distance\n",
    "        graph.add_edge(c1.Index, c2.Index, weight=distance)\n",
    "    \n",
    "    return cities, dist_matrix, graph\n",
    "\n",
    "CITIES, DIST_MATRIX, GRAPH = load_cities('italy.csv')\n",
    "\n",
    "def tsp_cost(path: list[int]) -> float:\n",
    "    assert path[0] == path[-1]\n",
    "    assert set(path) == set(range(len(path) - 1))\n",
    "\n",
    "    tot_cost = 0\n",
    "    for c1, c2 in zip(path, path[1:]):\n",
    "        tot_cost += DIST_MATRIX[c1, c2]\n",
    "\n",
    "    return tot_cost"
   ],
   "outputs": [],
   "execution_count": 1715
  },
  {
   "metadata": {},
   "cell_type": "markdown",
   "source": [
    "## NetworkX implementation\n",
    "\n",
    "The Python library NetworkX provides an implementation for the Traveling Salesman problem on a graph"
   ]
  },
  {
   "metadata": {
    "ExecuteTime": {
     "end_time": "2024-10-28T19:40:04.083673Z",
     "start_time": "2024-10-28T19:40:04.044900Z"
    }
   },
   "cell_type": "code",
   "source": [
    "nx_path = nx.approximation.traveling_salesman_problem(GRAPH)\n",
    "\n",
    "tsp_cost(nx_path)"
   ],
   "outputs": [
    {
     "data": {
      "text/plain": [
       "np.float64(4485.166040259443)"
      ]
     },
     "execution_count": 1716,
     "metadata": {},
     "output_type": "execute_result"
    }
   ],
   "execution_count": 1716
  },
  {
   "metadata": {},
   "cell_type": "markdown",
   "source": [
    "## First greedy algorithm\n",
    "\n",
    "Starting from a city, for each iteration visits the closest city."
   ]
  },
  {
   "metadata": {
    "ExecuteTime": {
     "end_time": "2024-10-28T19:40:04.109411Z",
     "start_time": "2024-10-28T19:40:04.098874Z"
    }
   },
   "cell_type": "code",
   "source": [
    "def node_based_greedy_tsp(initial_city: int = 0, verbose: bool = False) -> list[int]:\n",
    "    visited = np.full(len(CITIES), False)\n",
    "    dist = DIST_MATRIX.copy()\n",
    "    \n",
    "    city = initial_city\n",
    "    visited[city] = True\n",
    "    \n",
    "    path = [city]\n",
    "    \n",
    "    while not np.all(visited):\n",
    "        dist[:, city] = np.inf\n",
    "        closest = np.argmin(dist[city])\n",
    "        \n",
    "        if verbose:\n",
    "            logging.debug(\n",
    "                f\"step: {CITIES.at[city,'name']} -> {CITIES.at[closest,'name']} ({DIST_MATRIX[city,closest]:.2f}km)\"\n",
    "            )\n",
    "        \n",
    "        visited[closest] = True\n",
    "        city = closest\n",
    "        \n",
    "        path.append(int(city))\n",
    "    \n",
    "    if verbose:\n",
    "        logging.debug(\n",
    "            f\"step: {CITIES.at[path[-1],'name']} -> {CITIES.at[path[0],'name']} ({DIST_MATRIX[path[-1],path[0]]:.2f}km)\"\n",
    "        )\n",
    "    \n",
    "    path.append(path[0])\n",
    "    return path\n",
    "\n",
    "tsp_cost(node_based_greedy_tsp())"
   ],
   "outputs": [
    {
     "data": {
      "text/plain": [
       "np.float64(4436.03176952516)"
      ]
     },
     "execution_count": 1717,
     "metadata": {},
     "output_type": "execute_result"
    }
   ],
   "execution_count": 1717
  },
  {
   "metadata": {},
   "cell_type": "markdown",
   "source": [
    "# Hill climber\n",
    "\n",
    "3 possible mutations for a given path are defined."
   ]
  },
  {
   "metadata": {
    "ExecuteTime": {
     "end_time": "2024-10-28T19:40:04.224204Z",
     "start_time": "2024-10-28T19:40:04.216166Z"
    }
   },
   "cell_type": "code",
   "source": [
    "\n",
    "def scramble_mutation(path: list[int], weight: float = 0.5) -> list[int]:\n",
    "    modified_path = np.array(path[:-1])\n",
    "    \n",
    "    # Random portion of code, uses a weight.\n",
    "    mask = np.random.rand(len(path) - 1) < weight\n",
    "    selected_loci = modified_path[mask]\n",
    "    \n",
    "    np.random.shuffle(selected_loci)\n",
    "    modified_path[mask] = selected_loci\n",
    "    modified_path = np.append(modified_path, [modified_path[0]])\n",
    "    \n",
    "    return modified_path.tolist()\n",
    "\n",
    "def insert_mutation(path: list[int], _: float = 0.0) -> list[int]:\n",
    "    modified_path = np.array(path[:-1])\n",
    "    \n",
    "    # Random portion of code, maybe it can be weighted in some way.\n",
    "    selected_loci = np.random.choice(modified_path, 2, replace=False)\n",
    "    \n",
    "    sorter = np.argsort(modified_path)\n",
    "    insert_position = min(sorter[np.searchsorted(modified_path, selected_loci, sorter=sorter)])\n",
    "    insert_value = selected_loci[selected_loci != modified_path[insert_position]][0]\n",
    "    \n",
    "    modified_path = np.delete(modified_path, np.where(modified_path == insert_value))\n",
    "    modified_path = np.insert(modified_path, insert_position + 1, insert_value)\n",
    "    modified_path = np.append(modified_path, [modified_path[0]])\n",
    "    \n",
    "    return modified_path.tolist()\n",
    "\n",
    "def inversion_mutation(path: list[int], _: float = 0.0) -> list[int]:\n",
    "    modified_path = np.array(path[:-1])\n",
    "    \n",
    "    # Random portion of code, maybe it can be weighted in some way.\n",
    "    selected_loci = np.random.choice(modified_path, 2, replace=False)\n",
    "    \n",
    "    sorter = np.argsort(modified_path)\n",
    "    loci_positions = sorter[np.searchsorted(modified_path, selected_loci, sorter=sorter)]\n",
    "    sorted_loci_position = np.sort(loci_positions)\n",
    "    \n",
    "    selected_part = modified_path[sorted_loci_position[0] : sorted_loci_position[1]]\n",
    "    selected_part = np.append(selected_part, modified_path[sorted_loci_position[1]])\n",
    "    \n",
    "    modified_path = np.delete(modified_path, np.s_[sorted_loci_position[0]:sorted_loci_position[1] + 1])\n",
    "    modified_path = np.insert(modified_path, sorted_loci_position[0], selected_part[::-1])\n",
    "    modified_path = np.append(modified_path, [modified_path[0]])\n",
    "    \n",
    "    return modified_path.tolist()\n",
    "    "
   ],
   "outputs": [],
   "execution_count": 1718
  },
  {
   "metadata": {
    "ExecuteTime": {
     "end_time": "2024-10-28T19:40:04.240168Z",
     "start_time": "2024-10-28T19:40:04.233760Z"
    }
   },
   "cell_type": "code",
   "source": [
    "def hill_climber(num_steps: int, tweak_function: Callable[[list[int], float], list[int]], initial_city: int = np.random.randint(len(CITIES)), verbose: bool = True) -> list[int]:\n",
    "    current_path = node_based_greedy_tsp(initial_city)\n",
    "    history = [tsp_cost(current_path)]\n",
    "    \n",
    "    if verbose:\n",
    "        print(current_path)\n",
    "    \n",
    "    step_range = range(num_steps)\n",
    "    if verbose:\n",
    "        step_range = tqdm(step_range)\n",
    "    \n",
    "    for _ in step_range:        \n",
    "        new_path = tweak_function(current_path.copy(), 0.5)\n",
    "        history.append(tsp_cost(new_path))\n",
    "        \n",
    "        if tsp_cost(new_path) < tsp_cost(current_path):\n",
    "            current_path = new_path\n",
    "    \n",
    "    if verbose:\n",
    "        plt.plot(range(len(history)), history, label='Cost')\n",
    "        print(tsp_cost(current_path))\n",
    "    \n",
    "    return current_path"
   ],
   "outputs": [],
   "execution_count": 1719
  },
  {
   "metadata": {},
   "cell_type": "markdown",
   "source": [
    "## Results\n",
    "\n",
    "We could compute the results of the Hill Climbing algorithm with every possible initial path (i.e. computing it one time for every path that starts in a different city).\n",
    "In this case, the number of computations required is given by num_steps * num_cities.\n",
    "\n",
    "Alternatively, we execute the algorithm only 1 time, with a random starting city for the initial path."
   ]
  },
  {
   "metadata": {
    "ExecuteTime": {
     "end_time": "2024-10-28T19:42:30.416370Z",
     "start_time": "2024-10-28T19:40:04.260839Z"
    }
   },
   "cell_type": "code",
   "source": [
    "# Single execution, with more steps.\n",
    "print(f\"{tsp_cost(hill_climber(1000000, inversion_mutation)):.2f}\")\n",
    "\n",
    "# 1 execution per city, with fewer steps to not increase the computation time too much.\n",
    "results = []\n",
    "for city in tqdm(range(len(CITIES))):\n",
    "    final_path = hill_climber(10000, inversion_mutation, city, verbose=False)\n",
    "    \n",
    "    results.append((city, final_path, tsp_cost(final_path)))\n",
    "\n",
    "best_result = sorted(results, key=lambda result: result[2])[0]\n",
    "\n",
    "print(f\"Total cost: {best_result[2]:.2f}km\")\n",
    "#print(\"Path:\")\n",
    "#for i in range(len(CITIES)):\n",
    "#    print(f\"{CITIES.name[best_result[1][i]]} -> {CITIES.name[best_result[1][i + 1]]}\")"
   ],
   "outputs": [
    {
     "name": "stdout",
     "output_type": "stream",
     "text": [
      "[28, 25, 32, 19, 4, 9, 23, 45, 44, 6, 3, 20, 18, 22, 42, 13, 16, 29, 10, 12, 30, 33, 0, 26, 39, 34, 15, 14, 21, 35, 11, 1, 2, 38, 17, 31, 8, 37, 24, 7, 36, 27, 41, 43, 40, 5, 28]\n"
     ]
    },
    {
     "name": "stderr",
     "output_type": "stream",
     "text": [
      "100%|██████████| 1000000/1000000 [01:39<00:00, 10038.62it/s]\n"
     ]
    },
    {
     "name": "stdout",
     "output_type": "stream",
     "text": [
      "4432.206161647443\n",
      "4432.21\n"
     ]
    },
    {
     "name": "stderr",
     "output_type": "stream",
     "text": [
      "100%|██████████| 46/46 [00:44<00:00,  1.02it/s]\n"
     ]
    },
    {
     "name": "stdout",
     "output_type": "stream",
     "text": [
      "Total cost: 4174.94km\n"
     ]
    },
    {
     "data": {
      "text/plain": [
       "<Figure size 640x480 with 1 Axes>"
      ],
      "image/png": "[encoded data removed]"
     },
     "metadata": {},
     "output_type": "display_data"
    }
   ],
   "execution_count": 1720
  }
 ],
 "metadata": {
  "kernelspec": {
   "display_name": "ci-ZxkYKcJo-py3.12",
   "language": "python",
   "name": "python3"
  },
  "language_info": {
   "codemirror_mode": {
    "name": "ipython",
    "version": 3
   },
   "file_extension": ".py",
   "mimetype": "text/x-python",
   "name": "python",
   "nbconvert_exporter": "python",
   "pygments_lexer": "ipython3",
   "version": "3.12.7"
  }
 },
 "nbformat": 4,
 "nbformat_minor": 2
}
